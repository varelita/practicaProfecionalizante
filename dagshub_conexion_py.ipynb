{
  "cells": [
    {
      "cell_type": "markdown",
      "metadata": {
        "id": "view-in-github",
        "colab_type": "text"
      },
      "source": [
        "<a href=\"https://colab.research.google.com/github/varelita/practicaProfecionalizante/blob/main/dagshub_conexion_py.ipynb\" target=\"_parent\"><img src=\"https://colab.research.google.com/assets/colab-badge.svg\" alt=\"Open In Colab\"/></a>"
      ]
    },
    {
      "cell_type": "code",
      "execution_count": null,
      "metadata": {
        "id": "Io1-eZA_n-ad"
      },
      "outputs": [],
      "source": [
        "%mkdir redneuronal\n",
        "#mkdir es una orden de los sistemas operativos UNIX, DOS, OS/2 y Microsoft Windows usada para crear un nuevo subdirectorio o carpeta del sistema de archivos."
      ]
    },
    {
      "cell_type": "code",
      "execution_count": null,
      "metadata": {
        "colab": {
          "base_uri": "https://localhost:8080/"
        },
        "id": "odqpOryKxEUV",
        "outputId": "5610eed5-2ea3-497d-aae1-f9108cd4df25"
      },
      "outputs": [
        {
          "name": "stdout",
          "output_type": "stream",
          "text": [
            "Mounted at /content/drive\n"
          ]
        }
      ],
      "source": [
        "from google.colab import drive\n",
        "drive.mount('/content/drive')"
      ]
    },
    {
      "cell_type": "code",
      "execution_count": null,
      "metadata": {
        "colab": {
          "base_uri": "https://localhost:8080/"
        },
        "id": "F3CvNVHwoGBJ",
        "outputId": "957b257a-af1d-440a-9f31-635099469642"
      },
      "outputs": [
        {
          "name": "stdout",
          "output_type": "stream",
          "text": [
            "/content/redneuronal\n"
          ]
        }
      ],
      "source": [
        "%cd redneuronal\n",
        "#sirve para mostrar el nombre del directorio actual y, también, permite cambiar de directorio."
      ]
    },
    {
      "cell_type": "code",
      "execution_count": null,
      "metadata": {
        "colab": {
          "base_uri": "https://localhost:8080/"
        },
        "id": "ewMFJjT4oI8I",
        "outputId": "eb3072fc-5216-4f03-a25b-ce63143f4355"
      },
      "outputs": [
        {
          "name": "stdout",
          "output_type": "stream",
          "text": [
            "/content/redneuronal\n"
          ]
        }
      ],
      "source": [
        "!pwd\n",
        "\n",
        "#se utiliza para imprimir el nombre del directorio actual en una sesión de comandos bajo un sistema operativo Unix o derivado."
      ]
    },
    {
      "cell_type": "code",
      "execution_count": null,
      "metadata": {
        "id": "X5OgsgwaoZtu"
      },
      "outputs": [],
      "source": [
        "!git config --global user.email \"varelamarcelaa@gmail.com\"\n",
        "!git config --global user.name \"varelita\""
      ]
    },
    {
      "cell_type": "code",
      "execution_count": null,
      "metadata": {
        "colab": {
          "base_uri": "https://localhost:8080/"
        },
        "id": "Z-VMRh08oN8h",
        "outputId": "e87feb1f-770a-4316-aabe-0bf21a220ba1"
      },
      "outputs": [
        {
          "name": "stdout",
          "output_type": "stream",
          "text": [
            "Initialized empty Git repository in /content/redneuronal/.git/\n",
            "[master (root-commit) a17e915] first commit\n",
            " 1 file changed, 0 insertions(+), 0 deletions(-)\n",
            " create mode 100644 README.md\n",
            "Counting objects: 3, done.\n",
            "Writing objects: 100% (3/3), 211 bytes | 211.00 KiB/s, done.\n",
            "Total 3 (delta 0), reused 0 (delta 0)\n",
            "fatal: could not read Username for 'https://dagshub.com': No such device or address\n",
            "fatal: The remote end hung up unexpectedly\n",
            "fatal: The remote end hung up unexpectedly\n",
            "error: failed to push some refs to 'https://dagshub.com/varelita/redneuronal.git'\n"
          ]
        }
      ],
      "source": [
        "!touch README.md\n",
        "!git init\n",
        "!git add README.md\n",
        "!git commit -m \"first commit\"\n",
        "!git remote add origin https://dagshub.com/varelita/redneuronal.git\n",
        "!git push -u origin master\n",
        "#Username: ispcmp2022\n",
        "#Password: your_token 35c1713d3ae455be66de7aaed398ad67eece90bb"
      ]
    },
    {
      "cell_type": "code",
      "execution_count": null,
      "metadata": {
        "colab": {
          "base_uri": "https://localhost:8080/"
        },
        "id": "UEoI-q_XopuL",
        "outputId": "67cd2610-b948-4115-eb4c-1c2641bdd00d"
      },
      "outputs": [
        {
          "name": "stdout",
          "output_type": "stream",
          "text": [
            "On branch master\n",
            "nothing to commit, working tree clean\n"
          ]
        }
      ],
      "source": [
        "!git status"
      ]
    },
    {
      "cell_type": "code",
      "execution_count": null,
      "metadata": {
        "colab": {
          "base_uri": "https://localhost:8080/"
        },
        "id": "PKcD0-6Oouqy",
        "outputId": "838af89f-fb8c-4407-e96d-27a8ecbfe92d"
      },
      "outputs": [
        {
          "name": "stdout",
          "output_type": "stream",
          "text": [
            "origin\thttps://dagshub.com/varelita/redneuronal.git (fetch)\n",
            "origin\thttps://dagshub.com/varelita/redneuronal.git (push)\n"
          ]
        }
      ],
      "source": [
        "!git remote -v"
      ]
    },
    {
      "cell_type": "code",
      "execution_count": null,
      "metadata": {
        "colab": {
          "base_uri": "https://localhost:8080/"
        },
        "id": "uOt0vRgBozA3",
        "outputId": "b9edb40e-7308-48fa-cb67-0b6fd688e7e2"
      },
      "outputs": [
        {
          "name": "stdout",
          "output_type": "stream",
          "text": [
            "fatal: No such remote: origin\n"
          ]
        }
      ],
      "source": [
        "!git remote rm origin"
      ]
    },
    {
      "cell_type": "code",
      "execution_count": null,
      "metadata": {
        "id": "bE9DpKLxyiuy"
      },
      "outputs": [],
      "source": [
        "# Remuevo remoto de origen xq sino dice que ya existe cuando queremos hacer el git remote add\n",
        "#! git remote remove origin"
      ]
    },
    {
      "cell_type": "code",
      "execution_count": null,
      "metadata": {
        "id": "DpisMq8yo-aA"
      },
      "outputs": [],
      "source": [
        "# Si removimos el remote, ahora lo agregamos con el token\n",
        "!git remote add origin  https://^[Token]@dagshub.com/varelita/redneuronal.git "
      ]
    },
    {
      "cell_type": "code",
      "execution_count": null,
      "metadata": {
        "colab": {
          "base_uri": "https://localhost:8080/"
        },
        "id": "nAEB3elQpLnF",
        "outputId": "c295de1d-073d-4c1c-b15a-662426ef83e5"
      },
      "outputs": [
        {
          "name": "stdout",
          "output_type": "stream",
          "text": [
            "Counting objects: 3, done.\n",
            "Writing objects:  33% (1/3)   \rWriting objects:  66% (2/3)   \rWriting objects: 100% (3/3)   \rWriting objects: 100% (3/3), 211 bytes | 211.00 KiB/s, done.\n",
            "Total 3 (delta 0), reused 0 (delta 0)\n",
            "To https://dagshub.com/varelita/redneuronal.git\n",
            " * [new branch]      master -> master\n",
            "Branch 'master' set up to track remote branch 'master' from 'origin'.\n"
          ]
        }
      ],
      "source": [
        "#Hacemos el push a Dagshub\n",
        "!git push -u origin master"
      ]
    },
    {
      "cell_type": "code",
      "execution_count": null,
      "metadata": {
        "colab": {
          "base_uri": "https://localhost:8080/",
          "height": 1000
        },
        "id": "ppbLc2E7paMU",
        "outputId": "2d49d8b1-8578-499a-bc84-a3c5c824c1fb"
      },
      "outputs": [
        {
          "name": "stdout",
          "output_type": "stream",
          "text": [
            "Looking in indexes: https://pypi.org/simple, https://us-python.pkg.dev/colab-wheels/public/simple/\n",
            "Collecting dvc\n",
            "  Downloading dvc-2.10.2-py3-none-any.whl (401 kB)\n",
            "\u001b[K     |████████████████████████████████| 401 kB 7.6 MB/s \n",
            "\u001b[?25hCollecting fsspec[http]>=2021.10.1\n",
            "  Downloading fsspec-2022.5.0-py3-none-any.whl (140 kB)\n",
            "\u001b[K     |████████████████████████████████| 140 kB 53.9 MB/s \n",
            "\u001b[?25hCollecting voluptuous>=0.11.7\n",
            "  Downloading voluptuous-0.13.1-py3-none-any.whl (29 kB)\n",
            "Requirement already satisfied: tabulate>=0.8.7 in /usr/local/lib/python3.7/dist-packages (from dvc) (0.8.9)\n",
            "Collecting pygtrie>=2.3.2\n",
            "  Downloading pygtrie-2.4.2.tar.gz (35 kB)\n",
            "Collecting aiohttp-retry>=2.4.5\n",
            "  Downloading aiohttp_retry-2.4.6-py3-none-any.whl (7.7 kB)\n",
            "Collecting shtab<2,>=1.3.4\n",
            "  Downloading shtab-1.5.4-py2.py3-none-any.whl (13 kB)\n",
            "Requirement already satisfied: tqdm<5,>=4.63.1 in /usr/local/lib/python3.7/dist-packages (from dvc) (4.64.0)\n",
            "Collecting diskcache>=5.2.1\n",
            "  Downloading diskcache-5.4.0-py3-none-any.whl (44 kB)\n",
            "\u001b[K     |████████████████████████████████| 44 kB 4.3 MB/s \n",
            "\u001b[?25hCollecting distro>=1.3.0\n",
            "  Downloading distro-1.7.0-py3-none-any.whl (20 kB)\n",
            "Requirement already satisfied: importlib-metadata>=1.4 in /usr/local/lib/python3.7/dist-packages (from dvc) (4.11.4)\n",
            "Collecting configobj>=5.0.6\n",
            "  Downloading configobj-5.0.6.tar.gz (33 kB)\n",
            "Requirement already satisfied: requests>=2.22.0 in /usr/local/lib/python3.7/dist-packages (from dvc) (2.23.0)\n",
            "Collecting grandalf==0.6\n",
            "  Downloading grandalf-0.6-py3-none-any.whl (31 kB)\n",
            "Requirement already satisfied: typing-extensions>=3.7.4 in /usr/local/lib/python3.7/dist-packages (from dvc) (4.2.0)\n",
            "Collecting pathspec<0.10.0,>=0.9.0\n",
            "  Downloading pathspec-0.9.0-py2.py3-none-any.whl (31 kB)\n",
            "Collecting zc.lockfile>=1.2.1\n",
            "  Downloading zc.lockfile-2.0-py2.py3-none-any.whl (9.7 kB)\n",
            "Collecting scmrepo==0.0.19\n",
            "  Downloading scmrepo-0.0.19-py3-none-any.whl (40 kB)\n",
            "\u001b[K     |████████████████████████████████| 40 kB 8.0 MB/s \n",
            "\u001b[?25hRequirement already satisfied: packaging>=19.0 in /usr/local/lib/python3.7/dist-packages (from dvc) (21.3)\n",
            "Collecting ruamel.yaml>=0.17.11\n",
            "  Downloading ruamel.yaml-0.17.21-py3-none-any.whl (109 kB)\n",
            "\u001b[K     |████████████████████████████████| 109 kB 59.7 MB/s \n",
            "\u001b[?25hCollecting flufl.lock>=5\n",
            "  Downloading flufl.lock-7.0-py3-none-any.whl (11 kB)\n",
            "Requirement already satisfied: appdirs>=1.4.3 in /usr/local/lib/python3.7/dist-packages (from dvc) (1.4.4)\n",
            "Collecting flatten-dict<1,>=0.4.1\n",
            "  Downloading flatten_dict-0.4.2-py2.py3-none-any.whl (9.7 kB)\n",
            "Requirement already satisfied: pydot>=1.2.4 in /usr/local/lib/python3.7/dist-packages (from dvc) (1.3.0)\n",
            "Collecting dvclive>=0.7.3\n",
            "  Downloading dvclive-0.8.2-py2.py3-none-any.whl (32 kB)\n",
            "Collecting shortuuid>=0.5.0\n",
            "  Downloading shortuuid-1.0.9-py3-none-any.whl (9.4 kB)\n",
            "Collecting dictdiffer>=0.8.1\n",
            "  Downloading dictdiffer-0.9.0-py2.py3-none-any.whl (16 kB)\n",
            "Collecting psutil>=5.8.0\n",
            "  Downloading psutil-5.9.1-cp37-cp37m-manylinux_2_12_x86_64.manylinux2010_x86_64.manylinux_2_17_x86_64.manylinux2014_x86_64.whl (281 kB)\n",
            "\u001b[K     |████████████████████████████████| 281 kB 59.4 MB/s \n",
            "\u001b[?25hCollecting toml>=0.10.1\n",
            "  Downloading toml-0.10.2-py2.py3-none-any.whl (16 kB)\n",
            "Requirement already satisfied: importlib-resources>=5.2.2 in /usr/local/lib/python3.7/dist-packages (from dvc) (5.7.1)\n",
            "Collecting rich>=10.13.0\n",
            "  Downloading rich-12.4.4-py3-none-any.whl (232 kB)\n",
            "\u001b[K     |████████████████████████████████| 232 kB 53.3 MB/s \n",
            "\u001b[?25hRequirement already satisfied: pyparsing>=2.4.7 in /usr/local/lib/python3.7/dist-packages (from dvc) (3.0.9)\n",
            "Collecting colorama>=0.3.9\n",
            "  Downloading colorama-0.4.4-py2.py3-none-any.whl (16 kB)\n",
            "Collecting dvc-render==0.0.5\n",
            "  Downloading dvc_render-0.0.5-py3-none-any.whl (15 kB)\n",
            "Collecting funcy>=1.14\n",
            "  Downloading funcy-1.17-py2.py3-none-any.whl (33 kB)\n",
            "Requirement already satisfied: networkx>=2.5 in /usr/local/lib/python3.7/dist-packages (from dvc) (2.6.3)\n",
            "Collecting python-benedict>=0.24.2\n",
            "  Downloading python_benedict-0.25.1-py3-none-any.whl (41 kB)\n",
            "\u001b[K     |████████████████████████████████| 41 kB 468 kB/s \n",
            "\u001b[?25hCollecting dpath<3,>=2.0.2\n",
            "  Downloading dpath-2.0.6-py3-none-any.whl (15 kB)\n",
            "Collecting nanotime>=0.5.2\n",
            "  Downloading nanotime-0.5.2.tar.gz (3.2 kB)\n",
            "Requirement already satisfied: future in /usr/local/lib/python3.7/dist-packages (from grandalf==0.6->dvc) (0.16.0)\n",
            "Collecting asyncssh<3,>=2.7.1\n",
            "  Downloading asyncssh-2.10.1-py3-none-any.whl (335 kB)\n",
            "\u001b[K     |████████████████████████████████| 335 kB 46.3 MB/s \n",
            "\u001b[?25hCollecting gitpython>3\n",
            "  Downloading GitPython-3.1.27-py3-none-any.whl (181 kB)\n",
            "\u001b[K     |████████████████████████████████| 181 kB 60.6 MB/s \n",
            "\u001b[?25hCollecting dulwich>=0.20.34\n",
            "  Downloading dulwich-0.20.42-cp37-cp37m-manylinux_2_5_x86_64.manylinux1_x86_64.manylinux_2_12_x86_64.manylinux2010_x86_64.whl (552 kB)\n",
            "\u001b[K     |████████████████████████████████| 552 kB 62.5 MB/s \n",
            "\u001b[?25hCollecting pygit2>=1.7.2\n",
            "  Downloading pygit2-1.9.2-cp37-cp37m-manylinux_2_17_x86_64.manylinux2014_x86_64.whl (4.5 MB)\n",
            "\u001b[K     |████████████████████████████████| 4.5 MB 48.6 MB/s \n",
            "\u001b[?25hCollecting aiohttp\n",
            "  Downloading aiohttp-3.8.1-cp37-cp37m-manylinux_2_5_x86_64.manylinux1_x86_64.manylinux_2_12_x86_64.manylinux2010_x86_64.whl (1.1 MB)\n",
            "\u001b[K     |████████████████████████████████| 1.1 MB 48.8 MB/s \n",
            "\u001b[?25hCollecting cryptography>=3.1\n",
            "  Downloading cryptography-37.0.2-cp36-abi3-manylinux_2_24_x86_64.whl (4.0 MB)\n",
            "\u001b[K     |████████████████████████████████| 4.0 MB 47.3 MB/s \n",
            "\u001b[?25hRequirement already satisfied: six in /usr/local/lib/python3.7/dist-packages (from configobj>=5.0.6->dvc) (1.15.0)\n",
            "Requirement already satisfied: cffi>=1.12 in /usr/local/lib/python3.7/dist-packages (from cryptography>=3.1->asyncssh<3,>=2.7.1->scmrepo==0.0.19->dvc) (1.15.0)\n",
            "Requirement already satisfied: pycparser in /usr/local/lib/python3.7/dist-packages (from cffi>=1.12->cryptography>=3.1->asyncssh<3,>=2.7.1->scmrepo==0.0.19->dvc) (2.21)\n",
            "Requirement already satisfied: urllib3>=1.24.1 in /usr/local/lib/python3.7/dist-packages (from dulwich>=0.20.34->scmrepo==0.0.19->dvc) (1.24.3)\n",
            "Requirement already satisfied: certifi in /usr/local/lib/python3.7/dist-packages (from dulwich>=0.20.34->scmrepo==0.0.19->dvc) (2022.5.18.1)\n",
            "Collecting atpublic>=2.3\n",
            "  Downloading atpublic-3.0.1-py3-none-any.whl (4.8 kB)\n",
            "Collecting gitdb<5,>=4.0.1\n",
            "  Downloading gitdb-4.0.9-py3-none-any.whl (63 kB)\n",
            "\u001b[K     |████████████████████████████████| 63 kB 2.5 MB/s \n",
            "\u001b[?25hCollecting smmap<6,>=3.0.1\n",
            "  Downloading smmap-5.0.0-py3-none-any.whl (24 kB)\n",
            "Requirement already satisfied: zipp>=0.5 in /usr/local/lib/python3.7/dist-packages (from importlib-metadata>=1.4->dvc) (3.8.0)\n",
            "Requirement already satisfied: cached-property in /usr/local/lib/python3.7/dist-packages (from pygit2>=1.7.2->scmrepo==0.0.19->dvc) (1.5.2)\n",
            "Requirement already satisfied: python-slugify<7.0.0,>=6.0.1 in /usr/local/lib/python3.7/dist-packages (from python-benedict>=0.24.2->dvc) (6.1.2)\n",
            "Requirement already satisfied: python-dateutil<3.0.0,>=2.8.0 in /usr/local/lib/python3.7/dist-packages (from python-benedict>=0.24.2->dvc) (2.8.2)\n",
            "Collecting ftfy<7.0.0,>=6.0.0\n",
            "  Downloading ftfy-6.1.1-py3-none-any.whl (53 kB)\n",
            "\u001b[K     |████████████████████████████████| 53 kB 2.3 MB/s \n",
            "\u001b[?25hCollecting pyyaml<7.0,>=6.0\n",
            "  Downloading PyYAML-6.0-cp37-cp37m-manylinux_2_5_x86_64.manylinux1_x86_64.manylinux_2_12_x86_64.manylinux2010_x86_64.whl (596 kB)\n",
            "\u001b[K     |████████████████████████████████| 596 kB 50.9 MB/s \n",
            "\u001b[?25hCollecting python-fsutil<1.0.0,>=0.6.0\n",
            "  Downloading python_fsutil-0.6.1-py3-none-any.whl (12 kB)\n",
            "Collecting requests>=2.22.0\n",
            "  Downloading requests-2.27.1-py2.py3-none-any.whl (63 kB)\n",
            "\u001b[K     |████████████████████████████████| 63 kB 2.6 MB/s \n",
            "\u001b[?25hCollecting mailchecker<5.0.0,>=4.1.0\n",
            "  Downloading mailchecker-4.1.17.tar.gz (232 kB)\n",
            "\u001b[K     |████████████████████████████████| 232 kB 70.8 MB/s \n",
            "\u001b[?25hCollecting xmltodict<1.0.0,>=0.12.0\n",
            "  Downloading xmltodict-0.13.0-py2.py3-none-any.whl (10.0 kB)\n",
            "Collecting phonenumbers<9.0.0,>=8.12.0\n",
            "  Downloading phonenumbers-8.12.49-py2.py3-none-any.whl (2.6 MB)\n",
            "\u001b[K     |████████████████████████████████| 2.6 MB 51.0 MB/s \n",
            "\u001b[?25hRequirement already satisfied: wcwidth>=0.2.5 in /usr/local/lib/python3.7/dist-packages (from ftfy<7.0.0,>=6.0.0->python-benedict>=0.24.2->dvc) (0.2.5)\n",
            "Requirement already satisfied: text-unidecode>=1.3 in /usr/local/lib/python3.7/dist-packages (from python-slugify<7.0.0,>=6.0.1->python-benedict>=0.24.2->dvc) (1.3)\n",
            "Requirement already satisfied: charset-normalizer~=2.0.0 in /usr/local/lib/python3.7/dist-packages (from requests>=2.22.0->dvc) (2.0.12)\n",
            "Requirement already satisfied: idna<4,>=2.5 in /usr/local/lib/python3.7/dist-packages (from requests>=2.22.0->dvc) (2.10)\n",
            "Collecting commonmark<0.10.0,>=0.9.0\n",
            "  Downloading commonmark-0.9.1-py2.py3-none-any.whl (51 kB)\n",
            "\u001b[K     |████████████████████████████████| 51 kB 10.3 MB/s \n",
            "\u001b[?25hRequirement already satisfied: pygments<3.0.0,>=2.6.0 in /usr/local/lib/python3.7/dist-packages (from rich>=10.13.0->dvc) (2.6.1)\n",
            "Collecting ruamel.yaml.clib>=0.2.6\n",
            "  Downloading ruamel.yaml.clib-0.2.6-cp37-cp37m-manylinux1_x86_64.whl (546 kB)\n",
            "\u001b[K     |████████████████████████████████| 546 kB 80.6 MB/s \n",
            "\u001b[?25hRequirement already satisfied: setuptools in /usr/local/lib/python3.7/dist-packages (from zc.lockfile>=1.2.1->dvc) (57.4.0)\n",
            "Collecting yarl<2.0,>=1.0\n",
            "  Downloading yarl-1.7.2-cp37-cp37m-manylinux_2_5_x86_64.manylinux1_x86_64.manylinux_2_12_x86_64.manylinux2010_x86_64.whl (271 kB)\n",
            "\u001b[K     |████████████████████████████████| 271 kB 59.2 MB/s \n",
            "\u001b[?25hCollecting aiosignal>=1.1.2\n",
            "  Downloading aiosignal-1.2.0-py3-none-any.whl (8.2 kB)\n",
            "Collecting multidict<7.0,>=4.5\n",
            "  Downloading multidict-6.0.2-cp37-cp37m-manylinux_2_17_x86_64.manylinux2014_x86_64.whl (94 kB)\n",
            "\u001b[K     |████████████████████████████████| 94 kB 4.4 MB/s \n",
            "\u001b[?25hRequirement already satisfied: attrs>=17.3.0 in /usr/local/lib/python3.7/dist-packages (from aiohttp->aiohttp-retry>=2.4.5->dvc) (21.4.0)\n",
            "Collecting asynctest==0.13.0\n",
            "  Downloading asynctest-0.13.0-py3-none-any.whl (26 kB)\n",
            "Collecting frozenlist>=1.1.1\n",
            "  Downloading frozenlist-1.3.0-cp37-cp37m-manylinux_2_5_x86_64.manylinux1_x86_64.manylinux_2_17_x86_64.manylinux2014_x86_64.whl (144 kB)\n",
            "\u001b[K     |████████████████████████████████| 144 kB 73.3 MB/s \n",
            "\u001b[?25hCollecting async-timeout<5.0,>=4.0.0a3\n",
            "  Downloading async_timeout-4.0.2-py3-none-any.whl (5.8 kB)\n",
            "Building wheels for collected packages: configobj, nanotime, pygtrie, mailchecker\n",
            "  Building wheel for configobj (setup.py) ... \u001b[?25l\u001b[?25hdone\n",
            "  Created wheel for configobj: filename=configobj-5.0.6-py3-none-any.whl size=34547 sha256=7f4f10b5798fdd110de56b8dbc0d8455e43fb366d228805ee52228bb5e584bff\n",
            "  Stored in directory: /root/.cache/pip/wheels/0d/c4/19/13d74440f2a571841db6b6e0a273694327498884dafb9cf978\n",
            "  Building wheel for nanotime (setup.py) ... \u001b[?25l\u001b[?25hdone\n",
            "  Created wheel for nanotime: filename=nanotime-0.5.2-py3-none-any.whl size=2441 sha256=4d5cd2ecd13479255f24615d18694fa28f9efc9b96508655cecbf5d3a92abe8f\n",
            "  Stored in directory: /root/.cache/pip/wheels/b8/92/aa/456d462c908b4e210c3928f778d28f94049fc9e47af8b191c9\n",
            "  Building wheel for pygtrie (setup.py) ... \u001b[?25l\u001b[?25hdone\n",
            "  Created wheel for pygtrie: filename=pygtrie-2.4.2-py3-none-any.whl size=19063 sha256=687472fad042102f2f28b49c5d74dfd353422ac9b6d634f928319f557356f992\n",
            "  Stored in directory: /root/.cache/pip/wheels/d3/f8/ba/1d828b1603ea422686eb694253a43cb3a5901ea4696c1e0603\n",
            "  Building wheel for mailchecker (setup.py) ... \u001b[?25l\u001b[?25hdone\n",
            "  Created wheel for mailchecker: filename=mailchecker-4.1.17-py3-none-any.whl size=232921 sha256=5f20f5d92f58bcc225448740683116c15719965d71e3857469ae940896409c60\n",
            "  Stored in directory: /root/.cache/pip/wheels/62/34/d5/21a0829a95aec844a36606f113b607b6ed82f7148cb3f4a5a9\n",
            "Successfully built configobj nanotime pygtrie mailchecker\n",
            "Installing collected packages: smmap, multidict, frozenlist, yarl, gitdb, funcy, cryptography, asynctest, async-timeout, aiosignal, xmltodict, toml, ruamel.yaml.clib, requests, pyyaml, python-fsutil, pygtrie, pygit2, psutil, phonenumbers, pathspec, mailchecker, gitpython, ftfy, fsspec, dvc-render, dulwich, commonmark, atpublic, asyncssh, aiohttp, zc.lockfile, voluptuous, shtab, shortuuid, scmrepo, ruamel.yaml, rich, python-benedict, nanotime, grandalf, flufl.lock, flatten-dict, dvclive, dpath, distro, diskcache, dictdiffer, configobj, colorama, aiohttp-retry, dvc\n",
            "  Attempting uninstall: requests\n",
            "    Found existing installation: requests 2.23.0\n",
            "    Uninstalling requests-2.23.0:\n",
            "      Successfully uninstalled requests-2.23.0\n",
            "  Attempting uninstall: pyyaml\n",
            "    Found existing installation: PyYAML 3.13\n",
            "    Uninstalling PyYAML-3.13:\n",
            "      Successfully uninstalled PyYAML-3.13\n",
            "  Attempting uninstall: psutil\n",
            "    Found existing installation: psutil 5.4.8\n",
            "    Uninstalling psutil-5.4.8:\n",
            "      Successfully uninstalled psutil-5.4.8\n",
            "\u001b[31mERROR: pip's dependency resolver does not currently take into account all the packages that are installed. This behaviour is the source of the following dependency conflicts.\n",
            "google-colab 1.0.0 requires requests~=2.23.0, but you have requests 2.27.1 which is incompatible.\n",
            "datascience 0.10.6 requires folium==0.2.1, but you have folium 0.8.3 which is incompatible.\u001b[0m\n",
            "Successfully installed aiohttp-3.8.1 aiohttp-retry-2.4.6 aiosignal-1.2.0 async-timeout-4.0.2 asyncssh-2.10.1 asynctest-0.13.0 atpublic-3.0.1 colorama-0.4.4 commonmark-0.9.1 configobj-5.0.6 cryptography-37.0.2 dictdiffer-0.9.0 diskcache-5.4.0 distro-1.7.0 dpath-2.0.6 dulwich-0.20.42 dvc-2.10.2 dvc-render-0.0.5 dvclive-0.8.2 flatten-dict-0.4.2 flufl.lock-7.0 frozenlist-1.3.0 fsspec-2022.5.0 ftfy-6.1.1 funcy-1.17 gitdb-4.0.9 gitpython-3.1.27 grandalf-0.6 mailchecker-4.1.17 multidict-6.0.2 nanotime-0.5.2 pathspec-0.9.0 phonenumbers-8.12.49 psutil-5.9.1 pygit2-1.9.2 pygtrie-2.4.2 python-benedict-0.25.1 python-fsutil-0.6.1 pyyaml-6.0 requests-2.27.1 rich-12.4.4 ruamel.yaml-0.17.21 ruamel.yaml.clib-0.2.6 scmrepo-0.0.19 shortuuid-1.0.9 shtab-1.5.4 smmap-5.0.0 toml-0.10.2 voluptuous-0.13.1 xmltodict-0.13.0 yarl-1.7.2 zc.lockfile-2.0\n"
          ]
        },
        {
          "data": {
            "application/vnd.colab-display-data+json": {
              "pip_warning": {
                "packages": [
                  "psutil"
                ]
              }
            }
          },
          "metadata": {},
          "output_type": "display_data"
        }
      ],
      "source": [
        "# Primero procedemos a instalar dvc\n",
        "!pip install dvc"
      ]
    },
    {
      "cell_type": "code",
      "execution_count": null,
      "metadata": {
        "colab": {
          "base_uri": "https://localhost:8080/"
        },
        "id": "pbt0_Fq6qAGE",
        "outputId": "77960e49-8d9b-4810-a2a0-cdf5cb12df78"
      },
      "outputs": [
        {
          "name": "stdout",
          "output_type": "stream",
          "text": [
            "\u001b[31mERROR\u001b[39m: argument COMMAND: invalid choice: '[-f]' (choose from 'init', 'get', 'get-url', 'destroy', 'add', 'remove', 'move', 'unprotect', 'run', 'repro', 'pull', 'push', 'fetch', 'status', 'gc', 'import', 'import-url', 'config', 'checkout', 'remote', 'cache', 'metrics', 'params', 'install', 'root', 'list', 'ls', 'freeze', 'unfreeze', 'dag', 'daemon', 'commit', 'completion', 'diff', 'version', 'doctor', 'update', 'git-hook', 'plots', 'stage', 'experiments', 'exp', 'check-ignore', 'machine')\n",
            "usage: dvc [-q | -v] [-h] [-V] [--cd <path>] COMMAND ...\n",
            "\n",
            "Data Version Control\n",
            "\n",
            "optional arguments:\n",
            "  -q, --quiet        Be quiet.\n",
            "  -v, --verbose      Be verbose.\n",
            "  -h, --help         Show this help message and exit.\n",
            "  -V, --version      Show program's version.\n",
            "  --cd <path>        Change to directory before executing.\n",
            "\n",
            "Available Commands:\n",
            "  COMMAND            Use `dvc COMMAND --help` for command-specific help.\n",
            "    init             Initialize DVC in the current directory.\n",
            "    get              Download file or directory tracked by DVC or by Git.\n",
            "    get-url          Download or copy files from URL.\n",
            "    destroy          Remove DVC files, local DVC config and data cache.\n",
            "    add              Track data files or directories with DVC.\n",
            "    remove           Remove stages from dvc.yaml and/or stop tracking files or directories.\n",
            "    move             Rename or move a DVC controlled data file or a directory.\n",
            "    unprotect        Unprotect tracked files or directories (when hardlinks or symlinks have been enabled with `dvc config cache.type`).\n",
            "    run              Generate a dvc.yaml file from a command and execute the command.\n",
            "    repro            Reproduce complete or partial pipelines by executing their stages.\n",
            "    pull             Download tracked files or directories from remote storage.\n",
            "    push             Upload tracked files or directories to remote storage.\n",
            "    fetch            Download files or directories from remote storage to the cache.\n",
            "    status           Show changed stages, compare local cache and a remote storage.\n",
            "    gc               Garbage collect unused objects from cache or remote storage.\n",
            "    import           Download file or directory tracked by DVC or by Git into the workspace, and track it.\n",
            "    import-url       Download or copy file from URL and take it under DVC control.\n",
            "    config           Get or set config options.\n",
            "    checkout         Checkout data files from cache.\n",
            "    remote           Set up and manage data remotes.\n",
            "    cache            Manage cache settings.\n",
            "    metrics          Commands to display and compare metrics.\n",
            "    params           Commands to display params.\n",
            "    install          Install DVC git hooks into the repository.\n",
            "    root             Return the relative path to the root of the DVC project.\n",
            "    list (ls)        List repository contents, including files and directories tracked by DVC and by Git.\n",
            "    freeze           Freeze stages or .dvc files.\n",
            "    unfreeze         Unfreeze stages or .dvc files.\n",
            "    dag              Visualize DVC project DAG.\n",
            "    commit           Record changes to files or directories tracked by DVC by storing the current versions in the cache.\n",
            "    completion       Generate shell tab completion.\n",
            "    diff             Show added, modified, or deleted data between commits in the DVC repository, or between a commit and the workspace.\n",
            "    version (doctor)\n",
            "                     Display the DVC version and system/environment information.\n",
            "    update           Update data artifacts imported from other DVC repositories.\n",
            "    plots            Commands to visualize and compare plot metrics in structured files (JSON, YAML, CSV, TSV).\n",
            "    stage            Commands to list and create stages.\n",
            "    experiments (exp)\n",
            "                     Commands to run and compare experiments.\n",
            "    check-ignore     Check whether files or directories are excluded due to `.dvcignore`.\n",
            "\u001b[0m"
          ]
        }
      ],
      "source": [
        "#aqui me toco forzar, ya existia el comando\n",
        "!dvc [-f] init"
      ]
    },
    {
      "cell_type": "code",
      "execution_count": null,
      "metadata": {
        "id": "b8mCrkY3qUVj"
      },
      "outputs": [],
      "source": [
        "!mkdir data"
      ]
    },
    {
      "cell_type": "code",
      "execution_count": null,
      "metadata": {
        "colab": {
          "base_uri": "https://localhost:8080/"
        },
        "id": "5332risdqagc",
        "outputId": "fa6044ba-8e85-419f-ad7e-ed2978a92853"
      },
      "outputs": [
        {
          "name": "stdout",
          "output_type": "stream",
          "text": [
            "\u001b[31mERROR\u001b[39m: argument COMMAND: invalid choice: '[-f]' (choose from 'init', 'get', 'get-url', 'destroy', 'add', 'remove', 'move', 'unprotect', 'run', 'repro', 'pull', 'push', 'fetch', 'status', 'gc', 'import', 'import-url', 'config', 'checkout', 'remote', 'cache', 'metrics', 'params', 'install', 'root', 'list', 'ls', 'freeze', 'unfreeze', 'dag', 'daemon', 'commit', 'completion', 'diff', 'version', 'doctor', 'update', 'git-hook', 'plots', 'stage', 'experiments', 'exp', 'check-ignore', 'machine')\n",
            "usage: dvc [-q | -v] [-h] [-V] [--cd <path>] COMMAND ...\n",
            "\n",
            "Data Version Control\n",
            "\n",
            "optional arguments:\n",
            "  -q, --quiet        Be quiet.\n",
            "  -v, --verbose      Be verbose.\n",
            "  -h, --help         Show this help message and exit.\n",
            "  -V, --version      Show program's version.\n",
            "  --cd <path>        Change to directory before executing.\n",
            "\n",
            "Available Commands:\n",
            "  COMMAND            Use `dvc COMMAND --help` for command-specific help.\n",
            "    init             Initialize DVC in the current directory.\n",
            "    get              Download file or directory tracked by DVC or by Git.\n",
            "    get-url          Download or copy files from URL.\n",
            "    destroy          Remove DVC files, local DVC config and data cache.\n",
            "    add              Track data files or directories with DVC.\n",
            "    remove           Remove stages from dvc.yaml and/or stop tracking files or directories.\n",
            "    move             Rename or move a DVC controlled data file or a directory.\n",
            "    unprotect        Unprotect tracked files or directories (when hardlinks or symlinks have been enabled with `dvc config cache.type`).\n",
            "    run              Generate a dvc.yaml file from a command and execute the command.\n",
            "    repro            Reproduce complete or partial pipelines by executing their stages.\n",
            "    pull             Download tracked files or directories from remote storage.\n",
            "    push             Upload tracked files or directories to remote storage.\n",
            "    fetch            Download files or directories from remote storage to the cache.\n",
            "    status           Show changed stages, compare local cache and a remote storage.\n",
            "    gc               Garbage collect unused objects from cache or remote storage.\n",
            "    import           Download file or directory tracked by DVC or by Git into the workspace, and track it.\n",
            "    import-url       Download or copy file from URL and take it under DVC control.\n",
            "    config           Get or set config options.\n",
            "    checkout         Checkout data files from cache.\n",
            "    remote           Set up and manage data remotes.\n",
            "    cache            Manage cache settings.\n",
            "    metrics          Commands to display and compare metrics.\n",
            "    params           Commands to display params.\n",
            "    install          Install DVC git hooks into the repository.\n",
            "    root             Return the relative path to the root of the DVC project.\n",
            "    list (ls)        List repository contents, including files and directories tracked by DVC and by Git.\n",
            "    freeze           Freeze stages or .dvc files.\n",
            "    unfreeze         Unfreeze stages or .dvc files.\n",
            "    dag              Visualize DVC project DAG.\n",
            "    commit           Record changes to files or directories tracked by DVC by storing the current versions in the cache.\n",
            "    completion       Generate shell tab completion.\n",
            "    diff             Show added, modified, or deleted data between commits in the DVC repository, or between a commit and the workspace.\n",
            "    version (doctor)\n",
            "                     Display the DVC version and system/environment information.\n",
            "    update           Update data artifacts imported from other DVC repositories.\n",
            "    plots            Commands to visualize and compare plot metrics in structured files (JSON, YAML, CSV, TSV).\n",
            "    stage            Commands to list and create stages.\n",
            "    experiments (exp)\n",
            "                     Commands to run and compare experiments.\n",
            "    check-ignore     Check whether files or directories are excluded due to `.dvcignore`.\n",
            "\u001b[?25l\u001b[32m⠋\u001b[0m Checking graph\n",
            "\u001b[33mWARNING\u001b[39m: 'data/DATAFILE.md' is empty.\n",
            "Adding...:   0% 0/1 [00:00<?, ?file/s{'info': ''}]\n",
            "!\u001b[A\n",
            "  0%|          |.YQxhmT9yesgzVs6gUciDev.tmp        0.00/? [00:00<?,        ?B/s]\u001b[A\n",
            ".YQxhmT9yesgzVs6gUciDev.tmp:   0% 0.00/4.00 [00:00<?, ?B/s{'info': ''}]         \u001b[A\n",
            "                                                                       \u001b[A\n",
            "!\u001b[A\n",
            "  0%|          |1d8cd98f00b204e9800998ecf8427e     0.00/? [00:00<?,        ?B/s]\u001b[A\n",
            "  0%|          |1d8cd98f00b204e9800998ecf8427e  0.00/0.00 [00:00<?,        ?B/s]\u001b[A\n",
            "Adding...: 100% 1/1 [00:00<00:00, 33.78file/s{'info': ''}]\n",
            "\n",
            "To track the changes with git, run:\n",
            "\n",
            "    git add data/DATAFILE.md.dvc\n",
            "\n",
            "To enable auto staging, run:\n",
            "\n",
            "\tdvc config core.autostage true\n",
            "\u001b[0m\u001b[31mERROR\u001b[39m: configuration error - config file error: remote 'origin' already exists. Use `-f|--force` to overwrite it.\n",
            "\u001b[0m\u001b[0m\u001b[0m\u001b[0mOn branch master\n",
            "Your branch is up to date with 'origin/master'.\n",
            "\n",
            "nothing to commit, working tree clean\n",
            "Everything up-to-date\n",
            "Transferring:   0% 0/1 [00:00<?, ?file/s{'info': ''}]\n",
            "!\u001b[A\n",
            "  0%|          |1d8cd98f00b204e9800998ecf8427e     0.00/? [00:00<?,        ?B/s]\u001b[A\n",
            "  0%|          |1d8cd98f00b204e9800998ecf8427e  0.00/0.00 [00:00<?,        ?B/s]\u001b[A\n",
            "\u001b[31mERROR\u001b[39m: failed to transfer 'md5: d41d8cd98f00b204e9800998ecf8427e' - https://dagshub.com/varelita/redneuronal.git/d4/1d8cd98f00b204e9800998ecf8427e\n",
            "\u001b[31mERROR\u001b[39m: failed to push data to the cloud - 1 files failed to upload\n",
            "\u001b[0m"
          ]
        }
      ],
      "source": [
        "!touch data/DATAFILE.md\n",
        "!dvc [-f] init\n",
        "!dvc add data/DATAFILE.md\n",
        "!dvc remote add origin https://dagshub.com/varelita/redneuronal.git\n",
        "!dvc remote modify origin --local auth basic\n",
        "!dvc remote modify origin --local user varelita\n",
        "!dvc remote modify origin --local password  d59311e05ff550b462729b867bee3f03b2d1047b\n",
        "\n",
        "!git add .\n",
        "!git commit -m \"first data file\"\n",
        "!git push\n",
        "\n",
        "# Make sure you are using DVC 1.10 or greater for the next command\n",
        "!dvc push -r origin"
      ]
    },
    {
      "cell_type": "markdown",
      "metadata": {
        "id": "1T3D4ws22bZw"
      },
      "source": [
        "Ahora agregaremos el código del ejemplo de DVC, para tener los datos de un origen remoto. Otra opción, si tengo los datos en un archivo los cargamos en la raiz de este Colab, o los subo en un drive, de la fuente que quiera utilizar"
      ]
    },
    {
      "cell_type": "code",
      "execution_count": null,
      "metadata": {
        "colab": {
          "base_uri": "https://localhost:8080/"
        },
        "id": "E8BAyB5Zq-CJ",
        "outputId": "deecd1b9-53b8-4d18-a6b5-79d67b0d04a3"
      },
      "outputs": [
        {
          "name": "stdout",
          "output_type": "stream",
          "text": [
            "\u001b[0m"
          ]
        }
      ],
      "source": [
        "!dvc get https://github.com/iterative/dataset-registry \\\n",
        "          get-started/data.xml -o data/data.xml"
      ]
    },
    {
      "cell_type": "code",
      "execution_count": null,
      "metadata": {
        "colab": {
          "base_uri": "https://localhost:8080/"
        },
        "id": "6lPxuog4rrEs",
        "outputId": "063a1a3e-4741-49bb-d97d-1b7d8edfdca3"
      },
      "outputs": [
        {
          "name": "stdout",
          "output_type": "stream",
          "text": [
            "\u001b[?25l\u001b[32m⠋\u001b[0m Checking graph\n",
            "Adding...:   0% 0/1 [00:00<?, ?file/s{'info': ''}]\n",
            "!\u001b[A\n",
            "  0% |          |0/? [00:00<?,    ?files/s]\u001b[A\n",
            "                                           \u001b[A\n",
            "Transferring:   0% 0/1 [00:00<?, ?file/s]\u001b[A\n",
            "Transferring:   0% 0/1 [00:00<?, ?file/s{'info': ''}]\u001b[A\n",
            "                                                     \u001b[A\n",
            "!\u001b[A\n",
            "  0%|          |.M4vfPSb4XVSxWoMHh9r7m5.tmp        0.00/? [00:00<?,        ?B/s]\u001b[A\n",
            ".M4vfPSb4XVSxWoMHh9r7m5.tmp:   0% 0.00/4.00 [00:00<?, ?B/s{'info': ''}]         \u001b[A\n",
            "                                                                       \u001b[A\n",
            "!\u001b[A\n",
            "  0%|          |a1a2931c8370d3aeedd7183606fd7f     0.00/? [00:00<?,        ?B/s]\u001b[A\n",
            "a1a2931c8370d3aeedd7183606fd7f:   0% 0.00/13.8M [00:00<?, ?B/s{'info': ''}]     \u001b[A\n",
            "Adding...: 100% 1/1 [00:00<00:00, 12.61file/s{'info': ''}]\n",
            "\n",
            "To track the changes with git, run:\n",
            "\n",
            "    git add data/data.xml.dvc data/.gitignore\n",
            "\n",
            "To enable auto staging, run:\n",
            "\n",
            "\tdvc config core.autostage true\n",
            "\u001b[0m"
          ]
        }
      ],
      "source": [
        "#Agregamos los datos al seguimiento de dvc\n",
        "!dvc add data/data.xml"
      ]
    },
    {
      "cell_type": "code",
      "execution_count": null,
      "metadata": {
        "id": "3hpjweQPrz1P"
      },
      "outputs": [],
      "source": [
        "!git add data/.gitignore data/data.xml.dvc"
      ]
    },
    {
      "cell_type": "code",
      "execution_count": null,
      "metadata": {
        "colab": {
          "base_uri": "https://localhost:8080/"
        },
        "id": "q5qmhsgcsBip",
        "outputId": "bf1c1ce5-2e86-4b44-bae6-110021916e42"
      },
      "outputs": [
        {
          "name": "stdout",
          "output_type": "stream",
          "text": [
            "[master 24caa95] Add raw data\n",
            " 2 files changed, 5 insertions(+)\n",
            " create mode 100644 data/data.xml.dvc\n"
          ]
        }
      ],
      "source": [
        "!git commit -m \"Add raw data\""
      ]
    },
    {
      "cell_type": "code",
      "execution_count": null,
      "metadata": {
        "colab": {
          "base_uri": "https://localhost:8080/"
        },
        "id": "i9gbaLzzscvc",
        "outputId": "75e1e11d-f2ff-482b-b82a-471f8b7613cf"
      },
      "outputs": [
        {
          "name": "stdout",
          "output_type": "stream",
          "text": [
            "\r!\rIf DVC froze, see `hardlink_lock` in <\u001b[36mhttps://man.dvc.org/config#core\u001b[39m>\r                                                                      \r\u001b[31mERROR\u001b[39m: failed to push data to the cloud - config file error: no remote specified. Setup default remote with\n",
            "    dvc remote default <remote name>\n",
            "or use:\n",
            "    dvc push -r <remote name>\n",
            "\u001b[0m"
          ]
        }
      ],
      "source": [
        "!dvc push "
      ]
    },
    {
      "cell_type": "code",
      "execution_count": null,
      "metadata": {
        "colab": {
          "base_uri": "https://localhost:8080/"
        },
        "id": "whUsuG4ds1sU",
        "outputId": "8a9ae51f-8ded-4ea2-f70a-92e2c80f8509"
      },
      "outputs": [
        {
          "name": "stdout",
          "output_type": "stream",
          "text": [
            "On branch master\n",
            "Your branch is ahead of 'origin/master' by 1 commit.\n",
            "  (use \"git push\" to publish your local commits)\n",
            "\n",
            "nothing to commit, working tree clean\n"
          ]
        }
      ],
      "source": [
        "!git add .\n",
        "!git commit -m \"evalue1\""
      ]
    },
    {
      "cell_type": "code",
      "execution_count": null,
      "metadata": {
        "colab": {
          "base_uri": "https://localhost:8080/"
        },
        "id": "SgYKbPbBtSQ-",
        "outputId": "ccbc40c2-58b1-453e-e9b2-df41a0a219d8"
      },
      "outputs": [
        {
          "name": "stdout",
          "output_type": "stream",
          "text": [
            "Counting objects: 5, done.\n",
            "Delta compression using up to 2 threads.\n",
            "Compressing objects:  25% (1/4)   \rCompressing objects:  50% (2/4)   \rCompressing objects:  75% (3/4)   \rCompressing objects: 100% (4/4)   \rCompressing objects: 100% (4/4), done.\n",
            "Writing objects:  20% (1/5)   \rWriting objects:  40% (2/5)   \rWriting objects:  60% (3/5)   \rWriting objects:  80% (4/5)   \rWriting objects: 100% (5/5)   \rWriting objects: 100% (5/5), 482 bytes | 482.00 KiB/s, done.\n",
            "Total 5 (delta 1), reused 0 (delta 0)\n",
            "To https://dagshub.com/varelita/redneuronal.git\n",
            "   b002909..24caa95  master -> master\n"
          ]
        }
      ],
      "source": [
        "!git push origin master"
      ]
    },
    {
      "cell_type": "code",
      "execution_count": null,
      "metadata": {
        "colab": {
          "base_uri": "https://localhost:8080/"
        },
        "id": "e24zhHUlshMX",
        "outputId": "2a00746f-5a1c-4543-e618-d690a285bdd1"
      },
      "outputs": [
        {
          "name": "stdout",
          "output_type": "stream",
          "text": [
            "Transferring:   0% 0/2 [00:00<?, ?file/s{'info': ''}]\n",
            "!\u001b[A\n",
            "  0%|          |1d8cd98f00b204e9800998ecf8427e     0.00/? [00:00<?,        ?B/s]\u001b[A\n",
            "\n",
            "!\u001b[A\u001b[A\n",
            "\n",
            "  0%|          |a1a2931c8370d3aeedd7183606fd7f     0.00/? [00:00<?,        ?B/s]\u001b[A\u001b[A\n",
            "  0%|          |1d8cd98f00b204e9800998ecf8427e  0.00/0.00 [00:00<?,        ?B/s]\u001b[A\n",
            "\n",
            "a1a2931c8370d3aeedd7183606fd7f:   0% 0.00/13.8M [00:00<?, ?B/s{'info': ''}]     \u001b[A\u001b[A\n",
            "\n",
            "                                                     \n",
            "\u001b[A\u001b[31mERROR\u001b[39m: failed to transfer 'md5: 22a1a2931c8370d3aeedd7183606fd7f' - https://dagshub.com/varelita/redneuronal.git/22/a1a2931c8370d3aeedd7183606fd7f\n",
            "Transferring:   0% 0/2 [00:00<?, ?file/s{'info': ''}]\n",
            "Transferring:  50% 1/2 [00:00<00:00,  4.81file/s{'info': ''}]\n",
            "\u001b[31mERROR\u001b[39m: failed to transfer 'md5: d41d8cd98f00b204e9800998ecf8427e' - https://dagshub.com/varelita/redneuronal.git/d4/1d8cd98f00b204e9800998ecf8427e\n",
            "\u001b[31mERROR\u001b[39m: failed to push data to the cloud - 2 files failed to upload\n",
            "\u001b[0m"
          ]
        }
      ],
      "source": [
        "!dvc push -r origin"
      ]
    },
    {
      "cell_type": "code",
      "execution_count": null,
      "metadata": {
        "colab": {
          "base_uri": "https://localhost:8080/"
        },
        "id": "vCUyAZr6039e",
        "outputId": "842f69f9-ad59-44b3-cbf6-0071e8572d76"
      },
      "outputs": [
        {
          "name": "stdout",
          "output_type": "stream",
          "text": [
            "Already up to date.\n"
          ]
        }
      ],
      "source": [
        "!git pull"
      ]
    },
    {
      "cell_type": "code",
      "execution_count": null,
      "metadata": {
        "colab": {
          "base_uri": "https://localhost:8080/"
        },
        "id": "l4ESkkxA0-Um",
        "outputId": "66c70fca-6633-4b79-a77b-451e65e346ef"
      },
      "outputs": [
        {
          "name": "stdout",
          "output_type": "stream",
          "text": [
            "\r!\rIf DVC froze, see `hardlink_lock` in <\u001b[36mhttps://man.dvc.org/config#core\u001b[39m>\r                                                                      \r\r!\r  0% |          |0/? [00:00<?,    ?files/s]\r                                           \r\rCheckout:   0% 0/2 [00:00<?, ?file/s]\rCheckout:   0% 0/2 [00:00<?, ?file/s{'info': ''}]\r                                                 \rEverything is up to date.\n",
            "\u001b[0m"
          ]
        }
      ],
      "source": [
        "!dvc pull -r origin"
      ]
    },
    {
      "cell_type": "code",
      "execution_count": null,
      "metadata": {
        "colab": {
          "base_uri": "https://localhost:8080/"
        },
        "id": "YBFOdt5Z1Fic",
        "outputId": "9e48f747-7b2b-4b2d-a17e-c8a045ec6519"
      },
      "outputs": [
        {
          "name": "stdout",
          "output_type": "stream",
          "text": [
            "\u001b[31mERROR: Could not open requirements file: [Errno 2] No such file or directory: 'src/requirements.txt'\u001b[0m\n"
          ]
        }
      ],
      "source": [
        "!pip install -r src/requirements.txt"
      ]
    },
    {
      "cell_type": "code",
      "execution_count": null,
      "metadata": {
        "colab": {
          "base_uri": "https://localhost:8080/"
        },
        "id": "7CAlK_rb1cyo",
        "outputId": "3b0fab71-6eec-4051-b990-5a04e1cb72af"
      },
      "outputs": [
        {
          "name": "stdout",
          "output_type": "stream",
          "text": [
            "\r!\rIf DVC froze, see `hardlink_lock` in <\u001b[36mhttps://man.dvc.org/config#core\u001b[39m>\r                                                                      \r\u001b[31mERROR\u001b[39m: 'dvc.yaml' does not exist\n",
            "\u001b[0m"
          ]
        }
      ],
      "source": [
        "!dvc repro"
      ]
    },
    {
      "cell_type": "code",
      "execution_count": null,
      "metadata": {
        "colab": {
          "background_save": true,
          "base_uri": "https://localhost:8080/"
        },
        "id": "u3iF7QVA2LEq",
        "outputId": "e5b590ad-2eb7-4ef3-ebc0-8e5f9a668086"
      },
      "outputs": [
        {
          "name": "stdout",
          "output_type": "stream",
          "text": [
            "import _frozen_importlib # frozen\n",
            "import _imp # builtin\n",
            "import '_thread' # <class '_frozen_importlib.BuiltinImporter'>\n",
            "import '_warnings' # <class '_frozen_importlib.BuiltinImporter'>\n",
            "import '_weakref' # <class '_frozen_importlib.BuiltinImporter'>\n",
            "# installing zipimport hook\n",
            "import 'zipimport' # <class '_frozen_importlib.BuiltinImporter'>\n",
            "# installed zipimport hook\n",
            "import '_frozen_importlib_external' # <class '_frozen_importlib.FrozenImporter'>\n",
            "import '_io' # <class '_frozen_importlib.BuiltinImporter'>\n",
            "import 'marshal' # <class '_frozen_importlib.BuiltinImporter'>\n",
            "import 'posix' # <class '_frozen_importlib.BuiltinImporter'>\n",
            "import _thread # previously loaded ('_thread')\n",
            "import '_thread' # <class '_frozen_importlib.BuiltinImporter'>\n",
            "import _weakref # previously loaded ('_weakref')\n",
            "import '_weakref' # <class '_frozen_importlib.BuiltinImporter'>\n",
            "# /usr/lib/python3.7/encodings/__pycache__/__init__.cpython-37.pyc matches /usr/lib/python3.7/encodings/__init__.py\n",
            "# code object from '/usr/lib/python3.7/encodings/__pycache__/__init__.cpython-37.pyc'\n",
            "# /usr/lib/python3.7/__pycache__/codecs.cpython-37.pyc matches /usr/lib/python3.7/codecs.py\n",
            "# code object from '/usr/lib/python3.7/__pycache__/codecs.cpython-37.pyc'\n",
            "import '_codecs' # <class '_frozen_importlib.BuiltinImporter'>\n",
            "import 'codecs' # <_frozen_importlib_external.SourceFileLoader object at 0x7fbdc1f89c10>\n",
            "# /usr/lib/python3.7/encodings/__pycache__/aliases.cpython-37.pyc matches /usr/lib/python3.7/encodings/aliases.py\n",
            "# code object from '/usr/lib/python3.7/encodings/__pycache__/aliases.cpython-37.pyc'\n",
            "import 'encodings.aliases' # <_frozen_importlib_external.SourceFileLoader object at 0x7fbdc1faae90>\n",
            "import 'encodings' # <_frozen_importlib_external.SourceFileLoader object at 0x7fbdc1f89090>\n",
            "# /usr/lib/python3.7/encodings/__pycache__/utf_8.cpython-37.pyc matches /usr/lib/python3.7/encodings/utf_8.py\n",
            "# code object from '/usr/lib/python3.7/encodings/__pycache__/utf_8.cpython-37.pyc'\n",
            "import 'encodings.utf_8' # <_frozen_importlib_external.SourceFileLoader object at 0x7fbdc1f89bd0>\n",
            "import '_signal' # <class '_frozen_importlib.BuiltinImporter'>\n",
            "# /usr/lib/python3.7/encodings/__pycache__/latin_1.cpython-37.pyc matches /usr/lib/python3.7/encodings/latin_1.py\n",
            "# code object from '/usr/lib/python3.7/encodings/__pycache__/latin_1.cpython-37.pyc'\n",
            "import 'encodings.latin_1' # <_frozen_importlib_external.SourceFileLoader object at 0x7fbdc1fb2690>\n",
            "# /usr/lib/python3.7/__pycache__/io.cpython-37.pyc matches /usr/lib/python3.7/io.py\n",
            "# code object from '/usr/lib/python3.7/__pycache__/io.cpython-37.pyc'\n",
            "# /usr/lib/python3.7/__pycache__/abc.cpython-37.pyc matches /usr/lib/python3.7/abc.py\n",
            "# code object from '/usr/lib/python3.7/__pycache__/abc.cpython-37.pyc'\n",
            "import '_abc' # <class '_frozen_importlib.BuiltinImporter'>\n",
            "import 'abc' # <_frozen_importlib_external.SourceFileLoader object at 0x7fbdc1fb70d0>\n",
            "import 'io' # <_frozen_importlib_external.SourceFileLoader object at 0x7fbdc1fb2750>\n",
            "# /usr/lib/python3.7/__pycache__/warnings.cpython-37.pyc matches /usr/lib/python3.7/warnings.py\n",
            "# code object from '/usr/lib/python3.7/__pycache__/warnings.cpython-37.pyc'\n",
            "# /usr/lib/python3.7/__pycache__/re.cpython-37.pyc matches /usr/lib/python3.7/re.py\n",
            "# code object from '/usr/lib/python3.7/__pycache__/re.cpython-37.pyc'\n",
            "# /usr/lib/python3.7/__pycache__/enum.cpython-37.pyc matches /usr/lib/python3.7/enum.py\n",
            "# code object from '/usr/lib/python3.7/__pycache__/enum.cpython-37.pyc'\n",
            "# /usr/lib/python3.7/__pycache__/types.cpython-37.pyc matches /usr/lib/python3.7/types.py\n",
            "# code object from '/usr/lib/python3.7/__pycache__/types.cpython-37.pyc'\n",
            "import 'types' # <_frozen_importlib_external.SourceFileLoader object at 0x7fbdc1f64110>\n",
            "import '_collections' # <class '_frozen_importlib.BuiltinImporter'>\n",
            "import 'enum' # <_frozen_importlib_external.SourceFileLoader object at 0x7fbdc1f51050>\n",
            "# /usr/lib/python3.7/__pycache__/sre_compile.cpython-37.pyc matches /usr/lib/python3.7/sre_compile.py\n",
            "# code object from '/usr/lib/python3.7/__pycache__/sre_compile.cpython-37.pyc'\n",
            "import '_sre' # <class '_frozen_importlib.BuiltinImporter'>\n",
            "# /usr/lib/python3.7/__pycache__/sre_parse.cpython-37.pyc matches /usr/lib/python3.7/sre_parse.py\n",
            "# code object from '/usr/lib/python3.7/__pycache__/sre_parse.cpython-37.pyc'\n",
            "# /usr/lib/python3.7/__pycache__/sre_constants.cpython-37.pyc matches /usr/lib/python3.7/sre_constants.py\n",
            "# code object from '/usr/lib/python3.7/__pycache__/sre_constants.cpython-37.pyc'\n",
            "import 'sre_constants' # <_frozen_importlib_external.SourceFileLoader object at 0x7fbdc1f09050>\n",
            "import 'sre_parse' # <_frozen_importlib_external.SourceFileLoader object at 0x7fbdc1f79e90>\n",
            "import 'sre_compile' # <_frozen_importlib_external.SourceFileLoader object at 0x7fbdc1f5fe90>\n",
            "# /usr/lib/python3.7/__pycache__/functools.cpython-37.pyc matches /usr/lib/python3.7/functools.py\n",
            "# code object from '/usr/lib/python3.7/__pycache__/functools.cpython-37.pyc'\n",
            "import '_functools' # <class '_frozen_importlib.BuiltinImporter'>\n",
            "# /usr/lib/python3.7/collections/__pycache__/__init__.cpython-37.pyc matches /usr/lib/python3.7/collections/__init__.py\n",
            "# code object from '/usr/lib/python3.7/collections/__pycache__/__init__.cpython-37.pyc'\n",
            "# /usr/lib/python3.7/__pycache__/_collections_abc.cpython-37.pyc matches /usr/lib/python3.7/_collections_abc.py\n",
            "# code object from '/usr/lib/python3.7/__pycache__/_collections_abc.cpython-37.pyc'\n",
            "import '_collections_abc' # <_frozen_importlib_external.SourceFileLoader object at 0x7fbdc1f480d0>\n",
            "# /usr/lib/python3.7/__pycache__/operator.cpython-37.pyc matches /usr/lib/python3.7/operator.py\n",
            "# code object from '/usr/lib/python3.7/__pycache__/operator.cpython-37.pyc'\n",
            "import '_operator' # <class '_frozen_importlib.BuiltinImporter'>\n",
            "import 'operator' # <_frozen_importlib_external.SourceFileLoader object at 0x7fbdc1ed3390>\n",
            "# /usr/lib/python3.7/__pycache__/keyword.cpython-37.pyc matches /usr/lib/python3.7/keyword.py\n",
            "# code object from '/usr/lib/python3.7/__pycache__/keyword.cpython-37.pyc'\n",
            "import 'keyword' # <_frozen_importlib_external.SourceFileLoader object at 0x7fbdc1ee0510>\n",
            "# /usr/lib/python3.7/__pycache__/heapq.cpython-37.pyc matches /usr/lib/python3.7/heapq.py\n",
            "# code object from '/usr/lib/python3.7/__pycache__/heapq.cpython-37.pyc'\n",
            "import '_heapq' # <class '_frozen_importlib.BuiltinImporter'>\n",
            "import 'heapq' # <_frozen_importlib_external.SourceFileLoader object at 0x7fbdc1ef8e90>\n",
            "import 'itertools' # <class '_frozen_importlib.BuiltinImporter'>\n",
            "# /usr/lib/python3.7/__pycache__/reprlib.cpython-37.pyc matches /usr/lib/python3.7/reprlib.py\n",
            "# code object from '/usr/lib/python3.7/__pycache__/reprlib.cpython-37.pyc'\n",
            "import 'reprlib' # <_frozen_importlib_external.SourceFileLoader object at 0x7fbdc1ee1f10>\n",
            "import 'collections' # <_frozen_importlib_external.SourceFileLoader object at 0x7fbdc1f25e50>\n",
            "import 'functools' # <_frozen_importlib_external.SourceFileLoader object at 0x7fbdc1f799d0>\n",
            "import '_locale' # <class '_frozen_importlib.BuiltinImporter'>\n",
            "# /usr/lib/python3.7/__pycache__/copyreg.cpython-37.pyc matches /usr/lib/python3.7/copyreg.py\n",
            "# code object from '/usr/lib/python3.7/__pycache__/copyreg.cpython-37.pyc'\n",
            "import 'copyreg' # <_frozen_importlib_external.SourceFileLoader object at 0x7fbdc1e96950>\n",
            "import 're' # <_frozen_importlib_external.SourceFileLoader object at 0x7fbdc1f4c150>\n",
            "import 'warnings' # <_frozen_importlib_external.SourceFileLoader object at 0x7fbdc1fbc550>\n",
            "# /usr/lib/python3.7/__pycache__/site.cpython-37.pyc matches /usr/lib/python3.7/site.py\n",
            "# code object from '/usr/lib/python3.7/__pycache__/site.cpython-37.pyc'\n",
            "# /usr/lib/python3.7/__pycache__/os.cpython-37.pyc matches /usr/lib/python3.7/os.py\n",
            "# code object from '/usr/lib/python3.7/__pycache__/os.cpython-37.pyc'\n",
            "# /usr/lib/python3.7/__pycache__/stat.cpython-37.pyc matches /usr/lib/python3.7/stat.py\n",
            "# code object from '/usr/lib/python3.7/__pycache__/stat.cpython-37.pyc'\n",
            "import '_stat' # <class '_frozen_importlib.BuiltinImporter'>\n",
            "import 'stat' # <_frozen_importlib_external.SourceFileLoader object at 0x7fbdc1f27650>\n",
            "# /usr/lib/python3.7/__pycache__/posixpath.cpython-37.pyc matches /usr/lib/python3.7/posixpath.py\n",
            "# code object from '/usr/lib/python3.7/__pycache__/posixpath.cpython-37.pyc'\n",
            "# /usr/lib/python3.7/__pycache__/genericpath.cpython-37.pyc matches /usr/lib/python3.7/genericpath.py\n",
            "# code object from '/usr/lib/python3.7/__pycache__/genericpath.cpython-37.pyc'\n",
            "import 'genericpath' # <_frozen_importlib_external.SourceFileLoader object at 0x7fbdc1eb0ed0>\n",
            "import 'posixpath' # <_frozen_importlib_external.SourceFileLoader object at 0x7fbdc1eacc10>\n",
            "import 'os' # <_frozen_importlib_external.SourceFileLoader object at 0x7fbdc1e9fad0>\n",
            "# /usr/lib/python3.7/__pycache__/_sitebuiltins.cpython-37.pyc matches /usr/lib/python3.7/_sitebuiltins.py\n",
            "# code object from '/usr/lib/python3.7/__pycache__/_sitebuiltins.cpython-37.pyc'\n",
            "import '_sitebuiltins' # <_frozen_importlib_external.SourceFileLoader object at 0x7fbdc1e9fa90>\n",
            "# /usr/lib/python3.7/__pycache__/_bootlocale.cpython-37.pyc matches /usr/lib/python3.7/_bootlocale.py\n",
            "# code object from '/usr/lib/python3.7/__pycache__/_bootlocale.cpython-37.pyc'\n",
            "import '_bootlocale' # <_frozen_importlib_external.SourceFileLoader object at 0x7fbdc1ea1350>\n",
            "# /usr/lib/python3.7/importlib/__pycache__/__init__.cpython-37.pyc matches /usr/lib/python3.7/importlib/__init__.py\n",
            "# code object from '/usr/lib/python3.7/importlib/__pycache__/__init__.cpython-37.pyc'\n",
            "import 'importlib' # <_frozen_importlib_external.SourceFileLoader object at 0x7fbdc1eb3710>\n",
            "# /usr/lib/python3.7/importlib/__pycache__/util.cpython-37.pyc matches /usr/lib/python3.7/importlib/util.py\n",
            "# code object from '/usr/lib/python3.7/importlib/__pycache__/util.cpython-37.pyc'\n",
            "# /usr/lib/python3.7/importlib/__pycache__/abc.cpython-37.pyc matches /usr/lib/python3.7/importlib/abc.py\n",
            "# code object from '/usr/lib/python3.7/importlib/__pycache__/abc.cpython-37.pyc'\n",
            "# /usr/lib/python3.7/importlib/__pycache__/machinery.cpython-37.pyc matches /usr/lib/python3.7/importlib/machinery.py\n",
            "# code object from '/usr/lib/python3.7/importlib/__pycache__/machinery.cpython-37.pyc'\n",
            "import 'importlib.machinery' # <_frozen_importlib_external.SourceFileLoader object at 0x7fbdc1e4cad0>\n",
            "import 'importlib.abc' # <_frozen_importlib_external.SourceFileLoader object at 0x7fbdc1ec1d50>\n",
            "# /usr/lib/python3.7/__pycache__/contextlib.cpython-37.pyc matches /usr/lib/python3.7/contextlib.py\n",
            "# code object from '/usr/lib/python3.7/__pycache__/contextlib.cpython-37.pyc'\n",
            "import 'contextlib' # <_frozen_importlib_external.SourceFileLoader object at 0x7fbdc1e4c510>\n",
            "import 'importlib.util' # <_frozen_importlib_external.SourceFileLoader object at 0x7fbdc1eb3650>\n",
            "# possible namespace for /usr/local/lib/python3.7/dist-packages/google\n",
            "# possible namespace for /usr/local/lib/python3.7/dist-packages/google\n",
            "# destroy google\n",
            "# possible namespace for /usr/local/lib/python3.7/dist-packages/google\n",
            "# destroy google\n",
            "# possible namespace for /usr/local/lib/python3.7/dist-packages/google\n",
            "# destroy google\n",
            "# possible namespace for /usr/local/lib/python3.7/dist-packages/google/cloud\n",
            "# possible namespace for /usr/local/lib/python3.7/dist-packages/google\n",
            "# destroy google\n",
            "# possible namespace for /usr/local/lib/python3.7/dist-packages/google\n",
            "# destroy google\n",
            "# possible namespace for /usr/local/lib/python3.7/dist-packages/google/cloud\n",
            "# destroy google.cloud\n",
            "# possible namespace for /usr/local/lib/python3.7/dist-packages/google\n",
            "# destroy google\n",
            "# possible namespace for /usr/local/lib/python3.7/dist-packages/google\n",
            "# destroy google\n",
            "# possible namespace for /usr/local/lib/python3.7/dist-packages/google/cloud\n",
            "# destroy google.cloud\n",
            "# possible namespace for /usr/local/lib/python3.7/dist-packages/google\n",
            "# destroy google\n",
            "# possible namespace for /usr/local/lib/python3.7/dist-packages/google\n",
            "# destroy google\n",
            "# possible namespace for /usr/local/lib/python3.7/dist-packages/google/cloud\n",
            "# destroy google.cloud\n",
            "# possible namespace for /usr/local/lib/python3.7/dist-packages/google\n",
            "# destroy google\n",
            "# possible namespace for /usr/local/lib/python3.7/dist-packages/google\n",
            "# destroy google\n",
            "# possible namespace for /usr/local/lib/python3.7/dist-packages/google/cloud\n",
            "# destroy google.cloud\n",
            "# possible namespace for /usr/local/lib/python3.7/dist-packages/google\n",
            "# destroy google\n",
            "# possible namespace for /usr/local/lib/python3.7/dist-packages/google\n",
            "# destroy google\n",
            "# possible namespace for /usr/local/lib/python3.7/dist-packages/google/cloud\n",
            "# destroy google.cloud\n",
            "# possible namespace for /usr/local/lib/python3.7/dist-packages/google\n",
            "# destroy google\n",
            "# possible namespace for /usr/local/lib/python3.7/dist-packages/google\n",
            "# destroy google\n",
            "# possible namespace for /usr/local/lib/python3.7/dist-packages/google/cloud\n",
            "# destroy google.cloud\n",
            "# possible namespace for /usr/local/lib/python3.7/dist-packages/google\n",
            "# destroy google\n",
            "# possible namespace for /usr/local/lib/python3.7/dist-packages/google\n",
            "# destroy google\n",
            "# possible namespace for /usr/local/lib/python3.7/dist-packages/google/cloud\n",
            "# destroy google.cloud\n",
            "# possible namespace for /usr/local/lib/python3.7/dist-packages/google\n",
            "# destroy google\n",
            "# possible namespace for /usr/local/lib/python3.7/dist-packages/google\n",
            "# destroy google\n",
            "# possible namespace for /usr/local/lib/python3.7/dist-packages/google\n",
            "# destroy google\n",
            "# possible namespace for /usr/local/lib/python3.7/dist-packages/google\n",
            "# destroy google\n",
            "# possible namespace for /usr/local/lib/python3.7/dist-packages/google/logging\n",
            "# possible namespace for /usr/local/lib/python3.7/dist-packages/mpl_toolkits\n",
            "# possible namespace for /usr/local/lib/python3.7/dist-packages/google\n",
            "# destroy google\n",
            "# possible namespace for /usr/local/lib/python3.7/dist-packages/ruamel\n",
            "# possible namespace for /usr/local/lib/python3.7/dist-packages/sphinxcontrib\n",
            "# possible namespace for /usr/local/lib/python3.7/dist-packages/sphinxcontrib\n",
            "# destroy sphinxcontrib\n",
            "# possible namespace for /usr/local/lib/python3.7/dist-packages/zc\n",
            "# /usr/lib/python3.7/__pycache__/sitecustomize.cpython-37.pyc matches /usr/lib/python3.7/sitecustomize.py\n",
            "# code object from '/usr/lib/python3.7/__pycache__/sitecustomize.cpython-37.pyc'\n",
            "import 'sitecustomize' # <_frozen_importlib_external.SourceFileLoader object at 0x7fbdc1e83150>\n",
            "import 'site' # <_frozen_importlib_external.SourceFileLoader object at 0x7fbdc1fc4550>\n",
            "Python 3.7.13 (default, Apr 24 2022, 01:04:09) \n",
            "[GCC 7.5.0] on linux\n",
            "Type \"help\", \"copyright\", \"credits\" or \"license\" for more information.\n",
            "# extension module 'readline' loaded from '/usr/lib/python3.7/lib-dynload/readline.cpython-37m-x86_64-linux-gnu.so'\n",
            "# extension module 'readline' executed from '/usr/lib/python3.7/lib-dynload/readline.cpython-37m-x86_64-linux-gnu.so'\n",
            "import 'readline' # <_frozen_importlib_external.ExtensionFileLoader object at 0x7fbdc1e83710>\n",
            "import 'atexit' # <class '_frozen_importlib.BuiltinImporter'>\n",
            "# /usr/lib/python3.7/__pycache__/rlcompleter.cpython-37.pyc matches /usr/lib/python3.7/rlcompleter.py\n",
            "# code object from '/usr/lib/python3.7/__pycache__/rlcompleter.cpython-37.pyc'\n",
            "import 'rlcompleter' # <_frozen_importlib_external.SourceFileLoader object at 0x7fbdc1e83c10>\n",
            ">>> "
          ]
        }
      ],
      "source": [
        "!python -v"
      ]
    },
    {
      "cell_type": "code",
      "execution_count": null,
      "metadata": {
        "colab": {
          "base_uri": "https://localhost:8080/"
        },
        "id": "zpxJTsXx214c",
        "outputId": "3d0e7177-fafe-400f-bf1d-524b3157ca86"
      },
      "outputs": [
        {
          "name": "stdout",
          "output_type": "stream",
          "text": [
            "\r!\rIf DVC froze, see `hardlink_lock` in <\u001b[36mhttps://man.dvc.org/config#core\u001b[39m>\r                                                                      \rRunning stage 'evaluate':\n",
            "> python src/evaluate.py model.pkl data/features\n",
            "INFO:dvclive:Report path (if generated): /content/rednn1/evaluation/report.html\n",
            "Adding stage 'evaluate' in 'dvc.yaml'\n",
            "Updating lock file 'dvc.lock'\n",
            "\n",
            "To track the changes with git, run:\n",
            "\n",
            "    git add evaluation/.gitignore dvc.lock dvc.yaml\n",
            "\n",
            "To enable auto staging, run:\n",
            "\n",
            "\tdvc config core.autostage true\n",
            "\u001b[0m"
          ]
        }
      ],
      "source": [
        "!dvc run -n evaluate \\\n",
        "          -d src/evaluate.py -d model.pkl -d data/features \\\n",
        "          -M evaluation.json \\\n",
        "          --plots-no-cache evaluation/plots/precision_recall.json \\\n",
        "          --plots-no-cache evaluation/plots/roc.json \\\n",
        "          --plots-no-cache evaluation/plots/confusion_matrix.json \\\n",
        "          --plots evaluation/importance.png \\\n",
        "          python src/evaluate.py model.pkl data/features"
      ]
    }
  ],
  "metadata": {
    "colab": {
      "name": "dagshub_conexion.py",
      "provenance": [],
      "include_colab_link": true
    },
    "kernelspec": {
      "display_name": "Python 3",
      "name": "python3"
    },
    "language_info": {
      "name": "python"
    }
  },
  "nbformat": 4,
  "nbformat_minor": 0
}